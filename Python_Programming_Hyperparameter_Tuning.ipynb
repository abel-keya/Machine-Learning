{
  "nbformat": 4,
  "nbformat_minor": 0,
  "metadata": {
    "colab": {
      "name": "Python Programming: Hyperparameter Tuning",
      "provenance": [],
      "collapsed_sections": [
        "BdY9L9p3TYdM",
        "HE6MLrrUUrJt",
        "pCFuZXSBU8RB",
        "KdS5KHvgU_kg",
        "dKiRreUdZ9XJ",
        "Cz6aV2saaAlS"
      ],
      "toc_visible": true,
      "include_colab_link": true
    },
    "kernelspec": {
      "name": "python3",
      "display_name": "Python 3"
    }
  },
  "cells": [
    {
      "cell_type": "markdown",
      "metadata": {
        "id": "view-in-github",
        "colab_type": "text"
      },
      "source": [
        "<a href=\"https://colab.research.google.com/github/abel-keya/Machine-Learning/blob/master/Python_Programming_Hyperparameter_Tuning.ipynb\" target=\"_parent\"><img src=\"https://colab.research.google.com/assets/colab-badge.svg\" alt=\"Open In Colab\"/></a>"
      ]
    },
    {
      "cell_type": "markdown",
      "metadata": {
        "id": "CJJg9mmkbkJp",
        "colab_type": "text"
      },
      "source": [
        "<font color=\"green\">*To start working on this notebook, or any other notebook that we will use in the Moringa Data Science Course, we will need to save our own copy of it. We can do this by clicking File > Save a Copy in Drive. We will then be able to make edits to our own copy of this notebook.*</font>"
      ]
    },
    {
      "cell_type": "markdown",
      "metadata": {
        "id": "zr4nYa0hTVNa",
        "colab_type": "text"
      },
      "source": [
        "# Python Programming: Hyperparameter Tuning"
      ]
    },
    {
      "cell_type": "markdown",
      "metadata": {
        "id": "BdY9L9p3TYdM",
        "colab_type": "text"
      },
      "source": [
        "## Example "
      ]
    },
    {
      "cell_type": "code",
      "metadata": {
        "id": "oQ23qjHdTR1o",
        "colab_type": "code",
        "colab": {}
      },
      "source": [
        "# Loading libraries\n",
        "import numpy as np\n",
        "from sklearn import linear_model, datasets\n",
        "from sklearn.model_selection import GridSearchCV"
      ],
      "execution_count": 0,
      "outputs": []
    },
    {
      "cell_type": "code",
      "metadata": {
        "id": "23g_pOAETd-0",
        "colab_type": "code",
        "colab": {}
      },
      "source": [
        "# Loading data\n",
        "iris = datasets.load_iris()\n",
        "X = iris.data\n",
        "y = iris.target"
      ],
      "execution_count": 0,
      "outputs": []
    },
    {
      "cell_type": "code",
      "metadata": {
        "id": "6ssR6UH9TioF",
        "colab_type": "code",
        "colab": {}
      },
      "source": [
        "# Creating the logistic regression\n",
        "logistic = linear_model.LogisticRegression()"
      ],
      "execution_count": 0,
      "outputs": []
    },
    {
      "cell_type": "code",
      "metadata": {
        "id": "to9HNkYpTl6Q",
        "colab_type": "code",
        "colab": {}
      },
      "source": [
        "# Creating regularization penalty space\n",
        "penalty = ['l1', 'l2']\n",
        "\n",
        "# Creating regularization hyperparameter space\n",
        "C = np.logspace(0, 4, 10)\n",
        "\n",
        "# Creating hyperparameter options\n",
        "hyperparameters = dict(C=C, penalty=penalty)"
      ],
      "execution_count": 0,
      "outputs": []
    },
    {
      "cell_type": "code",
      "metadata": {
        "id": "6yjW29NJTyvk",
        "colab_type": "code",
        "colab": {}
      },
      "source": [
        "# Creating grid search using 5-fold cross validation\n",
        "clf = GridSearchCV(logistic, hyperparameters, cv=5, verbose=0)"
      ],
      "execution_count": 0,
      "outputs": []
    },
    {
      "cell_type": "code",
      "metadata": {
        "id": "x8mM5t73T1jp",
        "colab_type": "code",
        "colab": {}
      },
      "source": [
        "# Fitting grid search\n",
        "best_model = clf.fit(X, y)"
      ],
      "execution_count": 0,
      "outputs": []
    },
    {
      "cell_type": "code",
      "metadata": {
        "id": "XmsJNimlT4DI",
        "colab_type": "code",
        "colab": {}
      },
      "source": [
        "# Viewing best hyperparameters\n",
        "print('Best Penalty:', best_model.best_estimator_.get_params()['penalty'])\n",
        "print('Best C:', best_model.best_estimator_.get_params()['C'])"
      ],
      "execution_count": 0,
      "outputs": []
    },
    {
      "cell_type": "code",
      "metadata": {
        "id": "_VEWKlpuT7Up",
        "colab_type": "code",
        "colab": {}
      },
      "source": [
        "# Predicting target vector\n",
        "best_model.predict(X)"
      ],
      "execution_count": 0,
      "outputs": []
    },
    {
      "cell_type": "markdown",
      "metadata": {
        "id": "HE6MLrrUUrJt",
        "colab_type": "text"
      },
      "source": [
        "## <font color=\"green\">Challenge 1</font>"
      ]
    },
    {
      "cell_type": "code",
      "metadata": {
        "id": "I_rcyXCCUw8Z",
        "colab_type": "code",
        "colab": {}
      },
      "source": [
        "# Challenge 1\n",
        "# ---\n",
        "# Create a linear logistic regression model to predict the gender. \n",
        "# Perform hyperparameter tuning as well. \n",
        "# ---\n",
        "# Dataset url = http://bit.ly/HeightsWeightsDataset\n",
        "# --\n",
        "#\n",
        "OUR CODE GOES HERE"
      ],
      "execution_count": 0,
      "outputs": []
    },
    {
      "cell_type": "markdown",
      "metadata": {
        "id": "pCFuZXSBU8RB",
        "colab_type": "text"
      },
      "source": [
        "## <font color=\"green\">Challenge 2</font>"
      ]
    },
    {
      "cell_type": "code",
      "metadata": {
        "id": "-4mnVf7jU7LX",
        "colab_type": "code",
        "colab": {}
      },
      "source": [
        "# Challenge 2\n",
        "# ---\n",
        "# Use the breast cancer dataset to create a logistic regression machine learning model.\n",
        "# To improve the accuracy of the model, perform hyperparameter tuning.\n",
        "# ---\n",
        "# Dataset source = http://bit.ly/LRBreastCancerDataset\n",
        "# ---\n",
        "# \n",
        "OUR CODE GOES HERE"
      ],
      "execution_count": 0,
      "outputs": []
    },
    {
      "cell_type": "markdown",
      "metadata": {
        "id": "KdS5KHvgU_kg",
        "colab_type": "text"
      },
      "source": [
        "## <font color=\"green\">Challenge 3</font>"
      ]
    },
    {
      "cell_type": "code",
      "metadata": {
        "id": "J-YtpYLYVFmZ",
        "colab_type": "code",
        "colab": {}
      },
      "source": [
        "# Challenge 3\n",
        "# ---\n",
        "# Build a regression model to determine whether a patient has diabetes or not.\n",
        "# To improve the accuracy of the model, perform hyperparameter tuning.\n",
        "# ---\n",
        "# Dataset source = http://bit.ly/DiabetesDataset\n",
        "# ---\n",
        "#\n",
        "OUR CODE GOES HERE"
      ],
      "execution_count": 0,
      "outputs": []
    },
    {
      "cell_type": "markdown",
      "metadata": {
        "id": "dKiRreUdZ9XJ",
        "colab_type": "text"
      },
      "source": [
        "## <font color=\"green\">Challenge 4</font>"
      ]
    },
    {
      "cell_type": "code",
      "metadata": {
        "id": "76beid_BaC7n",
        "colab_type": "code",
        "colab": {}
      },
      "source": [
        "# Challenge 4\n",
        "# ---\n",
        "# Build a model to determine whether a patient will be admitted. \n",
        "# To improve the accuracy of the model, perform hyperparameter tuning.\n",
        "# ---\n",
        "# Dataset url = http://bit.ly/PatientAdmissionDataset\n",
        "# ---\n",
        "# \n",
        "OUR CODE GOES HERE"
      ],
      "execution_count": 0,
      "outputs": []
    },
    {
      "cell_type": "markdown",
      "metadata": {
        "id": "Cz6aV2saaAlS",
        "colab_type": "text"
      },
      "source": [
        "## <font color=\"green\">Challenge 5</font>"
      ]
    },
    {
      "cell_type": "code",
      "metadata": {
        "id": "r_cwqeK-aHs3",
        "colab_type": "code",
        "colab": {}
      },
      "source": [
        "# Challenge 5\n",
        "# ---\n",
        "# You have a telecom firm which has collected data of all its customers. \n",
        "# The main types of attributes are: \n",
        "# 1.Demographics (age, gender etc.) \n",
        "# 2.Services availed (internet packs purchased, special offers etc) \n",
        "# 3.Expenses (amount of recharge done per month etc.) \n",
        "# Based on all this past information, build an accurate model which will predict \n",
        "# whether a particular customer will churn or not. \n",
        "# ---\n",
        "# Dataset source = http://bit.ly/ChurnPredictionDataset\n",
        "# ---\n",
        "# \n",
        "OUR CODE GOES HERE"
      ],
      "execution_count": 0,
      "outputs": []
    }
  ]
}